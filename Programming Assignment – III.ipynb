{
 "cells": [
  {
   "cell_type": "markdown",
   "metadata": {},
   "source": [
    "# Bioinformatics - Programming Assignment – 3\n",
    "## Debayan Saha - 2019113002"
   ]
  },
  {
   "cell_type": "code",
   "execution_count": 2,
   "metadata": {},
   "outputs": [],
   "source": [
    "import numpy as np"
   ]
  },
  {
   "cell_type": "code",
   "execution_count": 3,
   "metadata": {},
   "outputs": [],
   "source": [
    "def populate_matrix(File):\n",
    "    matrixFile = open(File, \"r\")\n",
    "    lines = matrixFile.readlines()\n",
    "    matrixFile.close()\n",
    "    dictaa = {}\n",
    "    aminoacidstring = lines[0]\n",
    "    aminoacidstring = aminoacidstring.split()\n",
    "    \n",
    "    i = 1\n",
    "    while i <= (len(lines)-1):\n",
    "        row = lines[i]\n",
    "        row = row.split()\n",
    "\n",
    "        j = 1\n",
    "        for character in row[1:len(lines)]:\n",
    "            dictaa[aminoacidstring[i-1],aminoacidstring[j-1]] = character # i,j changes (row, column) for keys\n",
    "            j+=1\n",
    "        i+=1\n",
    "\n",
    "    return(dictaa) "
   ]
  },
  {
   "cell_type": "code",
   "execution_count": 4,
   "metadata": {},
   "outputs": [],
   "source": [
    "def seq_inp(path):\n",
    "    input_f = open(path, \"r\")\n",
    "    input_f.readline()\n",
    "\n",
    "    seq=\"\"\n",
    "\n",
    "    for line in input_f:\n",
    "        seq += line.replace(\"\\n\", \"\")\n",
    "    return seq"
   ]
  },
  {
   "cell_type": "code",
   "execution_count": 5,
   "metadata": {},
   "outputs": [],
   "source": [
    "dna_seq1 = seq_inp(\"./seq1.fasta\")\n",
    "dna_seq2 = seq_inp(\"./seq2.fasta\")\n",
    "prot_seq1 = seq_inp(\"./protein1.fasta\")\n",
    "prot_seq2 = seq_inp(\"./protein2.fasta\")"
   ]
  },
  {
   "cell_type": "code",
   "execution_count": 6,
   "metadata": {},
   "outputs": [],
   "source": [
    "blo_dict = populate_matrix(\"./BLOSUM62.txt\")\n",
    "dna_dict = populate_matrix(\"./DNAfull.txt\")"
   ]
  },
  {
   "cell_type": "markdown",
   "metadata": {},
   "source": [
    "### Question 1 - Global Alignment\n",
    "\n",
    "* Default gap penalty = 10\n",
    "* Score Matirx used = BLOSUM62 - protein / DNAfull - DNA"
   ]
  },
  {
   "cell_type": "code",
   "execution_count": 15,
   "metadata": {},
   "outputs": [],
   "source": [
    "def global_align(seq1, seq2, gap_penalty, blosum_dict):\n",
    "\n",
    "    smatrixToDict = {}\n",
    "    direction = 0 \n",
    "    maxLocation = 0,0\n",
    "    \n",
    "    smatrix = np.zeros((len(seq1)+2, len(seq2)+2), dtype = np.object)\n",
    "    \n",
    "    toprow = smatrix[0]\n",
    "    seq2 = \" \"+ \" \" + seq2\n",
    "    seq1 = \" \"+ seq1\n",
    "    for i in range(len(seq2)):\n",
    "        toprow[i] = seq2[i] \n",
    "\n",
    "    for k in range(len(seq1)): \n",
    "        smatrix[k+1][0] = seq1[k]\n",
    "\n",
    "    for rowi in range(1, len(seq1)+1): \n",
    "        \n",
    "        for colj in range(1, len(seq2)):  \n",
    "\n",
    "            blosumScoreKey = (smatrix[rowi][0],smatrix[0][colj])\n",
    "            if(rowi == 1 and colj ==1):\n",
    "                continue\n",
    "        \n",
    "#             print(smatrix)\n",
    "            \n",
    "            if(rowi == 1):\n",
    "                scorefromleft = int(smatrix[1][colj-1]) -(gap_penalty)\n",
    "                maxof4scores = scorefromleft\n",
    "                direction = 3\n",
    "            \n",
    "            elif(colj == 1):\n",
    "                scorefromabove = int(smatrix[rowi-1][1]) -(gap_penalty)\n",
    "                maxof4scores = scorefromabove\n",
    "                direction = 1\n",
    "                \n",
    "            else:\n",
    "                scorefromabove = int(smatrix[rowi-1][colj]) -(gap_penalty)\n",
    "                scorefromleft = int(smatrix[rowi][colj-1]) -(gap_penalty)\n",
    "                scorefromdiag= (smatrix[rowi-1][colj-1]) + int(blosum_dict.get(blosumScoreKey))\n",
    "\n",
    "                maxof4scores = max(scorefromabove, scorefromleft, scorefromdiag)\n",
    "                \n",
    "                if(maxof4scores == scorefromabove): # gap goes in seq1 horiz aa\n",
    "                    direction = 1\n",
    "                if(maxof4scores == scorefromleft): # gap goes in seq2 vert aa \n",
    "                    direction = 3\n",
    "                if(maxof4scores == scorefromdiag):\n",
    "                    direction = 2\n",
    "\n",
    "            smatrix[rowi][colj] = maxof4scores\n",
    "                \n",
    "            smatrixToDict[rowi, colj] = direction, maxof4scores \n",
    "                       \n",
    "            maxLocation = rowi, colj    \n",
    " \n",
    "    maxScore = smatrix[maxLocation]           \n",
    "    location = maxLocation       \n",
    "    \n",
    "#     print(smatrix)\n",
    "    directionANDscore = smatrixToDict[location]\n",
    "    direction, score = (directionANDscore[0], directionANDscore[1])\n",
    "    newseq1 = []\n",
    "    newseq2 = []\n",
    "     \n",
    "     \n",
    "    while 1:      \n",
    "        if(direction == 1):  #score from above\n",
    "            newlocation = ((location[0])-1, location[1])  #location = [row, column] of score\n",
    "            newseq2.append(\"_\")\n",
    "            newseq1.append(smatrix[location[0]][0])  #smatrix[locationtuple(row, col)][0]\n",
    "                                                         \n",
    "        if(direction == 3):    #score from left\n",
    "            newseq1.append(\"_\")   \n",
    "            newlocation = (location[0], (location[1])-1)\n",
    "            newseq2.append(smatrix[0][location[1]])             \n",
    "\n",
    "        if(direction == 2): #score from diagonal                      \n",
    "            newlocation = ((location[0])-1, (location[1])-1)\n",
    "            newseq1.append(smatrix[location[0]][0])                    \n",
    "            newseq2.append(smatrix[0][location[1]])  \n",
    "\n",
    "#         print(score)\n",
    "#         print(newseq2)\n",
    "        location = newlocation\n",
    "        if(location[0] == 1 and location[1] == 1):\n",
    "            break\n",
    "        directionANDscore = smatrixToDict[location]\n",
    "        score = (directionANDscore[1]) \n",
    "        direction = directionANDscore[0]\n",
    "    \n",
    "    newseq1 = \"\".join(newseq1[::-1])\n",
    "    newseq2 = \"\".join(newseq2[::-1])\n",
    "    print(\"Max Score: \", maxScore)\n",
    "#     print(\"Location: \", maxLocation)\n",
    "    \n",
    "    print(\"\\nGlobal Alignment: \")\n",
    "    print(newseq1)\n",
    "    print(newseq2)\n"
   ]
  },
  {
   "cell_type": "code",
   "execution_count": 16,
   "metadata": {
    "scrolled": false
   },
   "outputs": [
    {
     "name": "stdout",
     "output_type": "stream",
     "text": [
      "Max Score:  -435\n",
      "\n",
      "Global Alignment: \n",
      "_TTCAG_TAAACATTAC_GA_TTGTGCA_AAAGTAAAGAGTGTGTTTATTTGTAAAACAAGAATTAGGTTTG_GCTCAATACTCATGCAATACCTACAACTGAGGATTCTTCCCAGGGGGACCGCAGCCTGTCAGCATGGCTCAAGAGTGTGGGAACTACAAAATCCAGCCTGGGAAGGT_GGTTGTGT_TCATCAAGCCCACCTTCCCATTCTGCAG_GAGGACCCAAGAGAT_CCTCAGTCAACTGCCCATCAAACA_AGGGCTTCTGGAATTTGTCGAGAT_CACA_ACCACCAACCACACTA_AC___AAGATTCAAGATTATT_TGGA_ACAGCTCACGGGAGCAAGAATGG_GGCCTTGAGTCTTTATCAGTAAAGATTGTATAGGCAGATGCAGTGA_TCTAGTCACTATGC_AATAGAGTGGGGAACTGC_TGACGCGGCTAAAGCAGATTG__GAGTTTTGCAGTA_ACCAC_AG_A__GCAGGCCACACGCTGACTTTCCTCCTCAAGAGCTGGATGGCATTGCATGTGATGACAG_CACT__TCCTGGTGGATGAATTTGGGGGGCACAAACAGCT_TTTTTCTTCTTTTGCCTCAGTATTTAAAAGTGGATCAACTTGCTCTTGAC_CACGGGGCCAAGAAGGTTGATGGGCCATC_TTGGTTTTCTTCTTGATGTG_CTCTTTGGTTTTCAGAAGATTGTGACAAGTTCTG_GCCTAG_G_ATTCGCTCACTCACCCTCAATTGTTCTTTCTCT_T_TGGCACGCGTTTCTTACTGTTCTCCACGTGTCGGCATGCCTCTGCCTCTAAGCCAGTGT_TTTTCAA_C_TATGTT_TCTACA_GA__CTCCTTCTCCACAATGATGAATCCTTGGTTGGTTTTCTGCT_ACTGCCCAT_T_AGCT_GAAATCATTTTTCCTCTT_GACTTTGT_GGAGTTGGTGTTATGAAATCAGTGGGTATTTTGA_ATGTGTTCTTTCAAACGACTGCATCTCTCCGGAGA_CACAACCCCACCCCATCCCATCCCACCTTGAGAATCACTGCTCTGAACCAGTGTTGTCCACC_TTGT_CCTCTCACAGATCTCATAGGAAAT_GTTCAACAATTCTGTGAAAGCTCTCA_GGA_CTCAACTG_GAGA_AATCATATGA_AAA_GTTAAGCA_TAGTT___G_GTC__T_TGCTGTCATATG__GATCAG__AGGC_A_CAAGTGCAGA_GGCTGTGGTCGTGTAG_AACACT_CTGTTATTTAAGATGGC__CATCCAGATAATCCTGAACACTGTGTATTTATTTGATTTAGAGTACCAGCAAAAATTAAAGCACAAAATGTAAAACATTGAGAAAACTTACAGCCCCCTACCCTAAGAGTGTATCTCTGAAAGAGCCCCCAAT_GCTTTGAAAACTAAGAATCCCTTGGGCCAGGCGCAGTGGC_TGACGC_CT___GTAATCCCAGCA_C_TTTG_GGA_GGCCGAGGCAGGCAGATCACGAGG__TCAGGAGATCGA_GACCAT__CCTGGC_TAACACGGTGAAACCCCGTCTCTACTA_AAAATACAAA__AATATTAG__CCGGGCATGG__TGG\n",
      "ATGCCGCGCGTCGTCCCGGACCAGAGGAGCAAGT_TCGAGAACGAGGAGTTCTTCAGGAAG_CTGAGCCGCGAGTGCGAGA_TTAAG_TACACGGGCTTCAG_GGACCGGCCCCACGAGGA__GC_GCCAG__A_CACGCTTCCAGAACGCCTG__CCGCGACGGTC_G_CTCGG_AGATCGCTTTTGTGGCTACAGGAAC_CAATCTGTCTCTCCAGTTTTTTCCGGCCAGCTGGCAGGGAGAACAG_CGA_CAAACACCTAGC__CGGGAATATGTCGACTTAGAGAGAGAAGCAGGCAAGGTATACTTGAAGGCTC_CCATGATTCTGAATGGAGTGTGTGTTATATGGAAGGGCTGGATTGA_TCTCCA_CAGATTGGATGGTAT_GG__GTTGCCTGGAGTTTGATGAGGA_GCGAGCCCAGCAGGAAGATGCATTA_GC_ACAACAGGCCTTTGAAGAGGCTCGAAGAAGAACTCGAGAATTTGAGGATAGAGACAG_GTCTCACCGGGAGGAAATGGA_GGCA_AG_AAGACA_GCAAGACCCTAGTCCTGGT_TCT_AACTTAGGTGGCGGTGA_TGATCTCAAACTTCGTTAAGTGGAGCACAGCTTA_T_GTGCCCCAT_CTCTACACACACTGCTTCTAGTTGGTATAAATAAC_TCATTGGGCGACCAGAAACTGTGACAACTGGAGGGACTGCAGTTGGTTTCATGGCCTGAGGC_AGTGAAGACG_TCACCCA_CTGCCATGGTT_TTGCACTATAATGCCTGCATTTC_TAATTTTTAAAATATGTAGCCA_G_TAATAATTTGAAATTTTTTTCTATGCAAGCTTATCTTGTTGGCATTATTTTAGTTGTATCGAAAG_TATATACTTTCTTCATTTTAACTTAAAAGCTCATGTCATTTAGAAACAAGATAAGAAATTAAAATTTGTATCAG_GGTTGCT_TAACATTCTTTTATACTTTCAGACGAGTTGGTT_ATAC_A__GCTTTCCTCCTTAGATAAGGGTTCTTGGTTTTTGTTTGTTTTCTCTA_CATCATTTC_GTGTTTTTGTATTCTGCACCATTTTACAAATGA_AGATGTGTTTGCAGTTATTTTTTCCA_GCTAT_AAACCTAGAATAGAGCT_GTCTGCCACAGCCTCCTAAAACAAACGTTTA_CAGTTGTTAAAGCCACAGTATCCTTTCAAATGCTGAT_AGTCACCCTATCCCCTTTAGACAAAAATTCACAT_TAGTATTAGTACAGTTAATGAA_CTGGCTTCA_ACAGACTAGCCACATGGCAG_GTCCATA_CT_ATCCACAGGAGCTTCCCACAGTAAGCCACTGAA_G_CAAA_A__GA_AAATGTTTAAGCACAC_A_AGTAGAAGTCTAT_GAAGAAA_CGCCATAGTTCCCATGGTGGGGCCTGACTGTATTCAGACA_GTTCA_TGGCATTTTGCATTAAGGGAACTGCAGCATCAGTTGCAAACAGTCAAGACAAACCCATCGTAAGGCCACAGGA_ATGAACGACCATAAGTTCACTTTAAAAAATGAAA_AAGGT_ACAAAGAGGAGACACAAAGTTCTGTTAGTTCTTGGCATGGAATTC\n"
     ]
    }
   ],
   "source": [
    "global_align(dna_seq1, dna_seq2, 10, dna_dict)"
   ]
  },
  {
   "cell_type": "code",
   "execution_count": 8,
   "metadata": {
    "scrolled": true
   },
   "outputs": [
    {
     "name": "stdout",
     "output_type": "stream",
     "text": [
      "Max Score:  3594\n",
      "\n",
      "Global Alignment: \n",
      "MSSSCWLLLSLVAVATAQSLIEEKAESFLNKFNQEAEDLSYQSSLASWNYNTNITEENAQKMNEAAAKWSAFYEEQSKIAQNFSLQEIQNATIKRQLKALQQSGSSALSPDKNKQLNTILNTMSTIYSTGKVCNSMNPQECFLLEPGLDEIMATSTDYNRRLWAWEGWRAEVGKQLRPLYEEYVVLKNEMARANNYEDYGDYWRGDYEAEGVEGYNYNRNQLIEDVENTFKEIKPLYEQLHAYVRTKLMEVYPSYISPTGCLPAHLLGDMWGRFWTNLYPLTTPFLQKPNIDVTDAMVNQSWDAERIFKEAEKFFVSVGLPQMTPGFWTNSMLTEPGDDRKVVCHPTAWDLGHGDFRIKMCTKVTMDNFLTAHHEMGHIQYDMAYAKQPFLLRNGANEGFHEAVGEIMSLSAATPKHLKSIGLLPSNFQEDNETEINFLLKQALTIVGTLPFTYMLEKWRWMVFQDKIPREQWTKKWWEMKREIVGVVEPLPHDETYCDPASLFHVSNDYSFIRYYTRTIYQFQFQEALCQAAKHDGPLHKCDISNSTEAGQKLLNMLSLGNSGPWTLALENVVGSRNMDVKPLLNYFQPLFVWLKEQNRNSTVGWSTDWSPYADQSIKVRISLKSALGKNAYEWTDNEMYLFRSSVAYAMREYFSREKNQTVPFGEADVWVSDLKPRVSFNFFVTSPKNVSDIIPRSEVEEAIRMSRGRINDIFGLNDNSLEFLGIYPTLKPPYEPPVTIWLIIFGVVMGTVVVGIVILIVTGIKGRKKKNETKREENPYDSMDIGKGESNAGFQNSDDAQTSF\n",
      "MSSSSWLLLSLVAVTAAQSTIEEQAKTFLDKFNHEAEDLFYQSSLASWNYNTNITEENVQNMNNAGDKWSAFLKEQSTLAQMYPLQEIQNLTVKLQLQALQQNGSSVLSEDKSKRLNTILNTMSTIYSTGKVCNPDNPQECLLLEPGLNEIMANSLDYNERLWAWESWRSEVGKQLRPLYEEYVVLKNEMARANHYEDYGDYWRGDYEVNGVDGYDYSRGQLIEDVEHTFEEIKPLYEHLHAYVRAKLMNAYPSYISPIGCLPAHLLGDMWGRFWTNLYSLTVPFGQKPNIDVTDAMVDQAWDAQRIFKEAEKFFVSVGLPNMTQGFWENSMLTDPGNVQKAVCHPTAWDLGKGDFRILMCTKVTMDDFLTAHHEMGHIQYDMAYAAQPFLLRNGANEGFHEAVGEIMSLSAATPKHLKSIGLLSPDFQEDNETEINFLLKQALTIVGTLPFTYMLEKWRWMVFKGEIPKDQWMKKWWEMKREIVGVVEPVPHDETYCDPASLFHVSNDYSFIRYYTRTLYQFQFQEALCQAAKHEGPLHKCDISNSTEAGQKLFNMLRLGKSEPWTLALENVVGAKNMNVRPLLNYFEPLFTWLKDQNKNSFVGWSTDWSPYADQSIKVRISLKSALGDKAYEWNDNEMYLFRSSVAYAMRQYFLKVKNQMILFGEEDVRVANLKPRISFNFFVTAPKNVSDIIPRTEVEKAIRMSRSRINDAFRLNDNSLEFLGIQPTLGPPNQPPVSIWLIVFGVVMGVIVVGIVILIFTGIRDRKKKNKARSGENPYASIDISKGENNPGFQNTDDVQTSF\n"
     ]
    }
   ],
   "source": [
    "global_align(prot_seq1, prot_seq2, 10, blo_dict)"
   ]
  },
  {
   "cell_type": "markdown",
   "metadata": {},
   "source": [
    "### Question 2 - Local Alignment\n",
    "\n",
    "* Default gap penalty = 10\n",
    "* Score Matirx used = BLOSUM62 - protein / DNAfull - DNA"
   ]
  },
  {
   "cell_type": "code",
   "execution_count": 13,
   "metadata": {},
   "outputs": [],
   "source": [
    "def local(seq1, seq2, gap_penalty, blosum_dict):\n",
    "\n",
    "    smatrixToDict = {}\n",
    "    direction = 0 \n",
    "    runningMaxScore = 0\n",
    "    maxLocation = 0,0\n",
    "    \n",
    "    smatrix = np.zeros((len(seq1)+2, len(seq2)+2), dtype = np.object)\n",
    "    \n",
    "    toprow = smatrix[0]\n",
    "    seq2 = \" \"+ \" \" + seq2\n",
    "    seq1 = \" \"+ seq1\n",
    "    for i in range(len(seq2)):\n",
    "        toprow[i] = seq2[i] \n",
    "\n",
    "    for k in range(len(seq1)): \n",
    "        smatrix[k+1][0] = seq1[k]\n",
    "\n",
    "    for rowi in range(2, len(seq1)+1): \n",
    "        for colj in range(2, len(seq2)):  \n",
    "\n",
    "            blosumScoreKey = (smatrix[rowi][0],smatrix[0][colj])\n",
    "\n",
    "#             print(smatrix)\n",
    "            scorefromabove = int(smatrix[rowi-1][colj]) -(gap_penalty)\n",
    "            scorefromleft = int(smatrix[rowi][colj-1]) -(gap_penalty)\n",
    "            scorefromdiag= (smatrix[rowi-1][colj-1]) + int(blosum_dict.get(blosumScoreKey))\n",
    "            zero = 0\n",
    "            \n",
    "            maxof4scores = max(scorefromabove, scorefromleft, scorefromdiag, zero)\n",
    "\n",
    "            smatrix[rowi][colj] = maxof4scores\n",
    "\n",
    "            if(maxof4scores == scorefromabove): # gap goes in seq1 horiz aa\n",
    "                direction = 1\n",
    "            if(maxof4scores == scorefromleft): # gap goes in seq2 vert aa \n",
    "                direction = 3\n",
    "            if(maxof4scores == scorefromdiag):\n",
    "                direction = 2\n",
    "            if(maxof4scores == 0):\n",
    "                direction = 0\n",
    "                \n",
    "            smatrixToDict[rowi, colj] = direction, maxof4scores \n",
    "                    \n",
    "            if(maxof4scores > runningMaxScore):\n",
    "                runningMaxScore = max(runningMaxScore, maxof4scores)     \n",
    "                maxLocation = rowi, colj    \n",
    " \n",
    "    maxScore = smatrix[maxLocation]           \n",
    "    location = maxLocation       \n",
    "    \n",
    "    print(smatrix)\n",
    "\n",
    "    directionANDscore = smatrixToDict[location]\n",
    "    direction, score = (directionANDscore[0], directionANDscore[1])\n",
    "    newseq1 = []\n",
    "    newseq2 = []\n",
    "     \n",
    "     \n",
    "    while 1:      \n",
    "        if(direction == 1):  #score from above\n",
    "            newlocation = ((location[0])-1, location[1])  #location = [row, column] of score\n",
    "            newseq2.append(\"_\")\n",
    "            newseq1.append(smatrix[location[0]][0])  #smatrix[locationtuple(row, col)][0]\n",
    "                                                         \n",
    "        if(direction == 3):    #score from left\n",
    "            newseq1.append(\"_\")   \n",
    "            newlocation = (location[0], (location[1])-1)\n",
    "            newseq2.append(smatrix[0][location[1]])             \n",
    "\n",
    "        if(direction == 2): #score from diagonal                      \n",
    "            newlocation = ((location[0])-1, (location[1])-1)\n",
    "            newseq1.append(smatrix[location[0]][0])                    \n",
    "            newseq2.append(smatrix[0][location[1]])  \n",
    "\n",
    "#         print(newseq1)\n",
    "#         print(newseq2)\n",
    "#         print(score)\n",
    "        location = newlocation\n",
    "        if(location[0] == 2 or location[1] == 2 or score <= 0):\n",
    "            break\n",
    "        directionANDscore = smatrixToDict[location]\n",
    "        score = (directionANDscore[1]) \n",
    "        direction = directionANDscore[0]\n",
    "    \n",
    "    newseq1 = \"\".join(newseq1[::-1])\n",
    "    newseq2 = \"\".join(newseq2[::-1])\n",
    "    \n",
    "    print(\"Max Score: \", maxScore)\n",
    "    print(\"Location: \", maxLocation)\n",
    "    print(\"\\n Local Alignment: \")\n",
    "    print(newseq1)\n",
    "    print(newseq2)"
   ]
  },
  {
   "cell_type": "code",
   "execution_count": 14,
   "metadata": {},
   "outputs": [
    {
     "name": "stdout",
     "output_type": "stream",
     "text": [
      "[[' ' ' ' 'A' ... 'T' 'T' 'C']\n",
      " [' ' 0 0 ... 0 0 0]\n",
      " ['T' 0 0 ... 5 5 0]\n",
      " ...\n",
      " ['T' 0 0 ... 20 10 7]\n",
      " ['G' 0 0 ... 17 16 6]\n",
      " ['G' 0 0 ... 23 13 12]]\n",
      "Max Score:  95\n",
      "Location:  (554, 509)\n",
      "\n",
      " Local Alignment: \n",
      "ACAAG_ATTCAAGAT_TATTTGGAACAGCTCACGGGAGCAAGAATGGGGCCTTGAGTCTTTATCAGTAAAGATTGTATAGGCAGATGCAGTGATCTAGTCACTATGCAATAGAGTGGGGAACTGCTGACGCGGCTAAAGCAGATTGGAGTTTTGCAGTAACCACAGAGCAGGCCACACGCTGACTTTCCTCCTCAAGAGCTGGATGGCATTGCATG_T_GATGACAGCACTTCCTGGTGGATGAATTTGGGGGGCACAA_ACAGC\n",
      "AGAAGCAGGCAAGGTATACTT_GAA_GGCTCCCATGATTCTGAATGGAG___TGTGT_GTTATATGGAAGGGCTGGAT_TG_ATCTCCACAGAT_TGGATGGTATG_GGTTGCCTGGAG_TTTGATGA_GGAGCGAGCCCAG_CAGGA_AGATGCA_TTAGCACA_A_CAGGCC_TTTGAAGAGGCT_C_GAAGAAGAACTCGA__GAATTTGAGGATAGA_GACAGGTC_TCACCG_GGAGGAA_ATGGAGGCAAGAAGACAGC\n"
     ]
    }
   ],
   "source": [
    "local(dna_seq1, dna_seq2, 10, dna_dict)"
   ]
  },
  {
   "cell_type": "code",
   "execution_count": 11,
   "metadata": {},
   "outputs": [
    {
     "name": "stdout",
     "output_type": "stream",
     "text": [
      "Max Score:  3594\n",
      "Location:  (806, 806)\n",
      "\n",
      " Local Alignment: \n",
      "SSSCWLLLSLVAVATAQSLIEEKAESFLNKFNQEAEDLSYQSSLASWNYNTNITEENAQKMNEAAAKWSAFYEEQSKIAQNFSLQEIQNATIKRQLKALQQSGSSALSPDKNKQLNTILNTMSTIYSTGKVCNSMNPQECFLLEPGLDEIMATSTDYNRRLWAWEGWRAEVGKQLRPLYEEYVVLKNEMARANNYEDYGDYWRGDYEAEGVEGYNYNRNQLIEDVENTFKEIKPLYEQLHAYVRTKLMEVYPSYISPTGCLPAHLLGDMWGRFWTNLYPLTTPFLQKPNIDVTDAMVNQSWDAERIFKEAEKFFVSVGLPQMTPGFWTNSMLTEPGDDRKVVCHPTAWDLGHGDFRIKMCTKVTMDNFLTAHHEMGHIQYDMAYAKQPFLLRNGANEGFHEAVGEIMSLSAATPKHLKSIGLLPSNFQEDNETEINFLLKQALTIVGTLPFTYMLEKWRWMVFQDKIPREQWTKKWWEMKREIVGVVEPLPHDETYCDPASLFHVSNDYSFIRYYTRTIYQFQFQEALCQAAKHDGPLHKCDISNSTEAGQKLLNMLSLGNSGPWTLALENVVGSRNMDVKPLLNYFQPLFVWLKEQNRNSTVGWSTDWSPYADQSIKVRISLKSALGKNAYEWTDNEMYLFRSSVAYAMREYFSREKNQTVPFGEADVWVSDLKPRVSFNFFVTSPKNVSDIIPRSEVEEAIRMSRGRINDIFGLNDNSLEFLGIYPTLKPPYEPPVTIWLIIFGVVMGTVVVGIVILIVTGIKGRKKKNETKREENPYDSMDIGKGESNAGFQNSDDAQTSF\n",
      "SSSSWLLLSLVAVTAAQSTIEEQAKTFLDKFNHEAEDLFYQSSLASWNYNTNITEENVQNMNNAGDKWSAFLKEQSTLAQMYPLQEIQNLTVKLQLQALQQNGSSVLSEDKSKRLNTILNTMSTIYSTGKVCNPDNPQECLLLEPGLNEIMANSLDYNERLWAWESWRSEVGKQLRPLYEEYVVLKNEMARANHYEDYGDYWRGDYEVNGVDGYDYSRGQLIEDVEHTFEEIKPLYEHLHAYVRAKLMNAYPSYISPIGCLPAHLLGDMWGRFWTNLYSLTVPFGQKPNIDVTDAMVDQAWDAQRIFKEAEKFFVSVGLPNMTQGFWENSMLTDPGNVQKAVCHPTAWDLGKGDFRILMCTKVTMDDFLTAHHEMGHIQYDMAYAAQPFLLRNGANEGFHEAVGEIMSLSAATPKHLKSIGLLSPDFQEDNETEINFLLKQALTIVGTLPFTYMLEKWRWMVFKGEIPKDQWMKKWWEMKREIVGVVEPVPHDETYCDPASLFHVSNDYSFIRYYTRTLYQFQFQEALCQAAKHEGPLHKCDISNSTEAGQKLFNMLRLGKSEPWTLALENVVGAKNMNVRPLLNYFEPLFTWLKDQNKNSFVGWSTDWSPYADQSIKVRISLKSALGDKAYEWNDNEMYLFRSSVAYAMRQYFLKVKNQMILFGEEDVRVANLKPRISFNFFVTAPKNVSDIIPRTEVEKAIRMSRSRINDAFRLNDNSLEFLGIQPTLGPPNQPPVSIWLIVFGVVMGVIVVGIVILIFTGIRDRKKKNKARSGENPYASIDISKGENNPGFQNTDDVQTSF\n"
     ]
    }
   ],
   "source": [
    "local(prot_seq1, prot_seq2, 10, blo_dict)"
   ]
  },
  {
   "cell_type": "code",
   "execution_count": null,
   "metadata": {},
   "outputs": [],
   "source": []
  }
 ],
 "metadata": {
  "kernelspec": {
   "display_name": "Python 3",
   "language": "python",
   "name": "python3"
  },
  "language_info": {
   "codemirror_mode": {
    "name": "ipython",
    "version": 3
   },
   "file_extension": ".py",
   "mimetype": "text/x-python",
   "name": "python",
   "nbconvert_exporter": "python",
   "pygments_lexer": "ipython3",
   "version": "3.6.9"
  }
 },
 "nbformat": 4,
 "nbformat_minor": 4
}
